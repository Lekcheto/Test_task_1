{
 "cells": [
  {
   "cell_type": "markdown",
   "metadata": {},
   "source": [
    "### Тестовое задание от крупной компании\n",
    "Ниже выполнено тестовое задание от некоторой крупной компании. Было необходимо решить 3 задачи из 10 предложенных, в итоге, решено 7 задач. Вначале сгенерирован датафрейм со случайными данными. В том числе, сгенерирована воронка по событиям \"посещение сайта\" и \"открытие счета\". Т.е. некоторые пользователи зашли на сайт, но не открыли счет, а некоторые - зашли на сайт и открыли счет. Далее идут решения задач."
   ]
  },
  {
   "cell_type": "markdown",
   "metadata": {},
   "source": [
    "### Подготовка таблицы"
   ]
  },
  {
   "cell_type": "code",
   "execution_count": 1,
   "metadata": {},
   "outputs": [
    {
     "name": "stdout",
     "output_type": "stream",
     "text": [
      "Defaulting to user installation because normal site-packages is not writeable\n",
      "Requirement already satisfied: pandasql in ./.local/lib/python3.7/site-packages (0.7.3)\n",
      "Requirement already satisfied: pandas in /opt/tljh/user/lib/python3.7/site-packages (from pandasql) (1.1.2)\n",
      "Requirement already satisfied: sqlalchemy in /opt/tljh/user/lib/python3.7/site-packages (from pandasql) (1.3.24)\n",
      "Requirement already satisfied: numpy in /opt/tljh/user/lib/python3.7/site-packages (from pandasql) (1.21.2)\n",
      "Requirement already satisfied: python-dateutil>=2.7.3 in /opt/tljh/user/lib/python3.7/site-packages (from pandas->pandasql) (2.8.1)\n",
      "Requirement already satisfied: pytz>=2017.2 in /opt/tljh/user/lib/python3.7/site-packages (from pandas->pandasql) (2020.1)\n",
      "Requirement already satisfied: six>=1.5 in /opt/tljh/user/lib/python3.7/site-packages (from python-dateutil>=2.7.3->pandas->pandasql) (1.12.0)\n",
      "\u001b[33mWARNING: You are using pip version 21.2.4; however, version 23.1.2 is available.\n",
      "You should consider upgrading via the '/opt/tljh/user/bin/python -m pip install --upgrade pip' command.\u001b[0m\n"
     ]
    }
   ],
   "source": [
    "# Импорт библиотек:\n",
    "\n",
    "import pandas as pd\n",
    "!pip install pandasql\n",
    "from pandasql import sqldf\n",
    "import numpy as np\n",
    "from numpy.random import choice\n",
    "import random"
   ]
  },
  {
   "cell_type": "markdown",
   "metadata": {},
   "source": [
    "<span style=\"color:blue\">Библиотеки импортированы.</span>"
   ]
  },
  {
   "cell_type": "code",
   "execution_count": 2,
   "metadata": {},
   "outputs": [],
   "source": [
    "# Необходимо сгенерировать таблицу events со следующими столбцами:\n",
    "\n",
    "# event_datetime datetime,  время события, только 2020 год\n",
    "# event_id int,             идентификатор события, первичный ключ\n",
    "\n",
    "# user_id int,              идентификатор посетителя (один пользователь может несколько раз заходить на сайт, в том числе \n",
    "#                           и в течение дня, в том числе с разных городов). Посещения могут быть уже после открытия счета.\n",
    "\n",
    "# event_name varchar(100),  название события (Посещение сайта или Открытие счета) Для упрощения - счет может открыться \n",
    "#                           только после посещения сайта, и каждый посетитель мождет открыть только один счет\n",
    "\n",
    "# city  varchar(100) ,      город\n",
    "# cost  numeric(10,2)       расчетная стоимость привлечения посетителя на сайт\n"
   ]
  },
  {
   "cell_type": "markdown",
   "metadata": {},
   "source": [
    "<span style=\"color:blue\">Далее будет сгенерирован необходимый датафрейм.</span>"
   ]
  },
  {
   "cell_type": "code",
   "execution_count": 3,
   "metadata": {},
   "outputs": [],
   "source": [
    "# Зададим данные для столбцов event_id и user_id:\n",
    "\n",
    "# создадим последовательности чисел\n",
    "all_events_ids = np.arange(1, 1001)\n",
    "all_users_ids = np.arange(1, 301)\n",
    "\n",
    "# создадим случайный выбор 1000 чисел из вышеуказанных последовательностей\n",
    "event_ids    = np.random.choice(all_events_ids, 1000)\n",
    "user_ids = np.random.choice(all_users_ids, 1000)"
   ]
  },
  {
   "cell_type": "markdown",
   "metadata": {},
   "source": [
    "<span style=\"color:blue\">Данные для столбцов event_id и user_id заданы.</span>"
   ]
  },
  {
   "cell_type": "code",
   "execution_count": 4,
   "metadata": {},
   "outputs": [],
   "source": [
    "# Зададим даты для столбца event_datetime:\n",
    "\n",
    "# укажем стартовую дату 01.01.2020\n",
    "start_date = pd.to_datetime('2020-01-01')\n",
    "\n",
    "# зададим 1000 дат, начиная со start_date, с интервалом 5 часов\n",
    "event_datetime = pd.date_range(start_date, periods=1000, freq='5H')"
   ]
  },
  {
   "cell_type": "markdown",
   "metadata": {},
   "source": [
    "<span style=\"color:blue\">Даты для столбца event_datetime заданы.</span>"
   ]
  },
  {
   "cell_type": "code",
   "execution_count": 5,
   "metadata": {},
   "outputs": [
    {
     "data": {
      "text/html": [
       "<div>\n",
       "<style scoped>\n",
       "    .dataframe tbody tr th:only-of-type {\n",
       "        vertical-align: middle;\n",
       "    }\n",
       "\n",
       "    .dataframe tbody tr th {\n",
       "        vertical-align: top;\n",
       "    }\n",
       "\n",
       "    .dataframe thead th {\n",
       "        text-align: right;\n",
       "    }\n",
       "</style>\n",
       "<table border=\"1\" class=\"dataframe\">\n",
       "  <thead>\n",
       "    <tr style=\"text-align: right;\">\n",
       "      <th></th>\n",
       "      <th>event_datetime</th>\n",
       "      <th>event_id</th>\n",
       "      <th>user_id</th>\n",
       "    </tr>\n",
       "  </thead>\n",
       "  <tbody>\n",
       "    <tr>\n",
       "      <th>0</th>\n",
       "      <td>2020-01-01 00:00:00</td>\n",
       "      <td>909</td>\n",
       "      <td>201</td>\n",
       "    </tr>\n",
       "    <tr>\n",
       "      <th>1</th>\n",
       "      <td>2020-01-01 05:00:00</td>\n",
       "      <td>791</td>\n",
       "      <td>120</td>\n",
       "    </tr>\n",
       "    <tr>\n",
       "      <th>2</th>\n",
       "      <td>2020-01-01 10:00:00</td>\n",
       "      <td>493</td>\n",
       "      <td>45</td>\n",
       "    </tr>\n",
       "    <tr>\n",
       "      <th>3</th>\n",
       "      <td>2020-01-01 15:00:00</td>\n",
       "      <td>538</td>\n",
       "      <td>252</td>\n",
       "    </tr>\n",
       "    <tr>\n",
       "      <th>4</th>\n",
       "      <td>2020-01-01 20:00:00</td>\n",
       "      <td>568</td>\n",
       "      <td>230</td>\n",
       "    </tr>\n",
       "    <tr>\n",
       "      <th>...</th>\n",
       "      <td>...</td>\n",
       "      <td>...</td>\n",
       "      <td>...</td>\n",
       "    </tr>\n",
       "    <tr>\n",
       "      <th>995</th>\n",
       "      <td>2020-07-26 07:00:00</td>\n",
       "      <td>813</td>\n",
       "      <td>238</td>\n",
       "    </tr>\n",
       "    <tr>\n",
       "      <th>996</th>\n",
       "      <td>2020-07-26 12:00:00</td>\n",
       "      <td>842</td>\n",
       "      <td>88</td>\n",
       "    </tr>\n",
       "    <tr>\n",
       "      <th>997</th>\n",
       "      <td>2020-07-26 17:00:00</td>\n",
       "      <td>157</td>\n",
       "      <td>272</td>\n",
       "    </tr>\n",
       "    <tr>\n",
       "      <th>998</th>\n",
       "      <td>2020-07-26 22:00:00</td>\n",
       "      <td>115</td>\n",
       "      <td>95</td>\n",
       "    </tr>\n",
       "    <tr>\n",
       "      <th>999</th>\n",
       "      <td>2020-07-27 03:00:00</td>\n",
       "      <td>497</td>\n",
       "      <td>46</td>\n",
       "    </tr>\n",
       "  </tbody>\n",
       "</table>\n",
       "<p>1000 rows × 3 columns</p>\n",
       "</div>"
      ],
      "text/plain": [
       "         event_datetime  event_id  user_id\n",
       "0   2020-01-01 00:00:00       909      201\n",
       "1   2020-01-01 05:00:00       791      120\n",
       "2   2020-01-01 10:00:00       493       45\n",
       "3   2020-01-01 15:00:00       538      252\n",
       "4   2020-01-01 20:00:00       568      230\n",
       "..                  ...       ...      ...\n",
       "995 2020-07-26 07:00:00       813      238\n",
       "996 2020-07-26 12:00:00       842       88\n",
       "997 2020-07-26 17:00:00       157      272\n",
       "998 2020-07-26 22:00:00       115       95\n",
       "999 2020-07-27 03:00:00       497       46\n",
       "\n",
       "[1000 rows x 3 columns]"
      ]
     },
     "execution_count": 5,
     "metadata": {},
     "output_type": "execute_result"
    }
   ],
   "source": [
    "# Создадим датафрейм:\n",
    "\n",
    "user_actions = pd.DataFrame({'event_datetime': event_datetime,\n",
    "                             'event_id': event_ids,\n",
    "                             'user_id': user_ids})\n",
    "user_actions"
   ]
  },
  {
   "cell_type": "markdown",
   "metadata": {},
   "source": [
    "<span style=\"color:blue\">Часть датафрейма с датами, event_id и user_id создана.</span>"
   ]
  },
  {
   "cell_type": "code",
   "execution_count": 6,
   "metadata": {},
   "outputs": [
    {
     "data": {
      "text/html": [
       "<div>\n",
       "<style scoped>\n",
       "    .dataframe tbody tr th:only-of-type {\n",
       "        vertical-align: middle;\n",
       "    }\n",
       "\n",
       "    .dataframe tbody tr th {\n",
       "        vertical-align: top;\n",
       "    }\n",
       "\n",
       "    .dataframe thead th {\n",
       "        text-align: right;\n",
       "    }\n",
       "</style>\n",
       "<table border=\"1\" class=\"dataframe\">\n",
       "  <thead>\n",
       "    <tr style=\"text-align: right;\">\n",
       "      <th></th>\n",
       "      <th>event_datetime</th>\n",
       "      <th>event_id</th>\n",
       "      <th>user_id</th>\n",
       "      <th>event_name</th>\n",
       "    </tr>\n",
       "  </thead>\n",
       "  <tbody>\n",
       "    <tr>\n",
       "      <th>0</th>\n",
       "      <td>2020-01-01 00:00:00</td>\n",
       "      <td>909</td>\n",
       "      <td>201</td>\n",
       "      <td>Посещение сайта</td>\n",
       "    </tr>\n",
       "    <tr>\n",
       "      <th>1</th>\n",
       "      <td>2020-01-01 05:00:00</td>\n",
       "      <td>791</td>\n",
       "      <td>120</td>\n",
       "      <td>Посещение сайта</td>\n",
       "    </tr>\n",
       "    <tr>\n",
       "      <th>2</th>\n",
       "      <td>2020-01-01 10:00:00</td>\n",
       "      <td>493</td>\n",
       "      <td>45</td>\n",
       "      <td>Посещение сайта</td>\n",
       "    </tr>\n",
       "    <tr>\n",
       "      <th>3</th>\n",
       "      <td>2020-01-01 15:00:00</td>\n",
       "      <td>538</td>\n",
       "      <td>252</td>\n",
       "      <td>Посещение сайта</td>\n",
       "    </tr>\n",
       "    <tr>\n",
       "      <th>4</th>\n",
       "      <td>2020-01-01 20:00:00</td>\n",
       "      <td>568</td>\n",
       "      <td>230</td>\n",
       "      <td>Посещение сайта</td>\n",
       "    </tr>\n",
       "  </tbody>\n",
       "</table>\n",
       "</div>"
      ],
      "text/plain": [
       "       event_datetime  event_id  user_id       event_name\n",
       "0 2020-01-01 00:00:00       909      201  Посещение сайта\n",
       "1 2020-01-01 05:00:00       791      120  Посещение сайта\n",
       "2 2020-01-01 10:00:00       493       45  Посещение сайта\n",
       "3 2020-01-01 15:00:00       538      252  Посещение сайта\n",
       "4 2020-01-01 20:00:00       568      230  Посещение сайта"
      ]
     },
     "execution_count": 6,
     "metadata": {},
     "output_type": "execute_result"
    }
   ],
   "source": [
    "# Создадим столбец \"действие\" с посещением сайта, т.к. все пользователи сначала заходили на сайт:\n",
    "\n",
    "user_actions['event_name'] = 'Посещение сайта'\n",
    "user_actions.head()"
   ]
  },
  {
   "cell_type": "markdown",
   "metadata": {},
   "source": [
    "<span style=\"color:blue\">Столбец event_name заполнен только событием \"Посещение сайта\".</span>"
   ]
  },
  {
   "cell_type": "code",
   "execution_count": 7,
   "metadata": {},
   "outputs": [],
   "source": [
    "# Теперь сгерерируем событие \"Открытие счета\" для некоторых пользователей,\n",
    "# для чего сначала напишем функцию для однократной генерации строки с событием 'Открытие счета': \n",
    "\n",
    "def generate_funel_actions(event_datetime, event_id, user_id):\n",
    "    to_account = 0.3 # вероятность успеха события 'Открытие счета'\n",
    "    \n",
    "    \n",
    "    df = pd.DataFrame()\n",
    "    \n",
    "    # в случае успеха функция создаст событие 'Открытие счета'\n",
    "    if np.random.binomial(1, to_account, 1)[0]:\n",
    "        # одна строка с событием 'Открытие счета'\n",
    "        df = pd.DataFrame({'event_datetime': event_datetime + pd.Timedelta(5, unit='s'),\n",
    "                           'event_id': event_id,\n",
    "                           'user_id': user_id,                       \n",
    "                           'event_name': 'Открытие счета'}, index=[0])\n",
    "        \n",
    "            \n",
    "    return df"
   ]
  },
  {
   "cell_type": "markdown",
   "metadata": {},
   "source": [
    "<span style=\"color:blue\">Функция создана. Задача функции - сгенерировать событие \"Открытие счета\" для каждой строки датафрейма с вероятностью 0.3.</span>"
   ]
  },
  {
   "cell_type": "code",
   "execution_count": 8,
   "metadata": {},
   "outputs": [
    {
     "data": {
      "text/html": [
       "<div>\n",
       "<style scoped>\n",
       "    .dataframe tbody tr th:only-of-type {\n",
       "        vertical-align: middle;\n",
       "    }\n",
       "\n",
       "    .dataframe tbody tr th {\n",
       "        vertical-align: top;\n",
       "    }\n",
       "\n",
       "    .dataframe thead th {\n",
       "        text-align: right;\n",
       "    }\n",
       "</style>\n",
       "<table border=\"1\" class=\"dataframe\">\n",
       "  <thead>\n",
       "    <tr style=\"text-align: right;\">\n",
       "      <th></th>\n",
       "      <th>event_datetime</th>\n",
       "      <th>event_id</th>\n",
       "      <th>user_id</th>\n",
       "      <th>event_name</th>\n",
       "    </tr>\n",
       "  </thead>\n",
       "  <tbody>\n",
       "    <tr>\n",
       "      <th>0</th>\n",
       "      <td>2020-01-01 00:00:00</td>\n",
       "      <td>909</td>\n",
       "      <td>201</td>\n",
       "      <td>Посещение сайта</td>\n",
       "    </tr>\n",
       "    <tr>\n",
       "      <th>1</th>\n",
       "      <td>2020-01-01 05:00:00</td>\n",
       "      <td>791</td>\n",
       "      <td>120</td>\n",
       "      <td>Посещение сайта</td>\n",
       "    </tr>\n",
       "    <tr>\n",
       "      <th>2</th>\n",
       "      <td>2020-01-01 10:00:00</td>\n",
       "      <td>493</td>\n",
       "      <td>45</td>\n",
       "      <td>Посещение сайта</td>\n",
       "    </tr>\n",
       "    <tr>\n",
       "      <th>3</th>\n",
       "      <td>2020-01-01 15:00:00</td>\n",
       "      <td>538</td>\n",
       "      <td>252</td>\n",
       "      <td>Посещение сайта</td>\n",
       "    </tr>\n",
       "    <tr>\n",
       "      <th>4</th>\n",
       "      <td>2020-01-01 20:00:00</td>\n",
       "      <td>568</td>\n",
       "      <td>230</td>\n",
       "      <td>Посещение сайта</td>\n",
       "    </tr>\n",
       "  </tbody>\n",
       "</table>\n",
       "</div>"
      ],
      "text/plain": [
       "       event_datetime  event_id  user_id       event_name\n",
       "0 2020-01-01 00:00:00       909      201  Посещение сайта\n",
       "1 2020-01-01 05:00:00       791      120  Посещение сайта\n",
       "2 2020-01-01 10:00:00       493       45  Посещение сайта\n",
       "3 2020-01-01 15:00:00       538      252  Посещение сайта\n",
       "4 2020-01-01 20:00:00       568      230  Посещение сайта"
      ]
     },
     "metadata": {},
     "output_type": "display_data"
    },
    {
     "name": "stdout",
     "output_type": "stream",
     "text": [
      "Посещение сайта    1000\n",
      "Открытие счета      279\n",
      "Name: event_name, dtype: int64\n"
     ]
    }
   ],
   "source": [
    "# Применим созданную функцию к user_actions:\n",
    "\n",
    "# создадим пустой датафрейм, чтобы заполнить его событиями \"Открытие счета\"\n",
    "open_account = pd.DataFrame()\n",
    "\n",
    "# идем по индексам и строкам в user_actions\n",
    "for index, row in user_actions.iterrows():\n",
    "    # передаем функции значения каждой строки из user_actions    \n",
    "    user_df = generate_funel_actions(row['event_datetime'], row['event_id'], row['user_id'])\n",
    "    # датафрейм с событиями 'Открытие счета'\n",
    "    open_account = open_account.append(user_df)\n",
    "    \n",
    "#  создадим общий датафрейм со всеми событиями, строки суммируются\n",
    "user_actions = user_actions.append(open_account)\n",
    "user_actions = user_actions.sort_values('event_datetime')\n",
    "display(user_actions.head())\n",
    "print(user_actions['event_name'].value_counts())"
   ]
  },
  {
   "cell_type": "markdown",
   "metadata": {},
   "source": [
    "<span style=\"color:blue\">Столбец event_name сгенерирован. Выше указано количество созданных строк с событием \"Открытие счета\"</span>"
   ]
  },
  {
   "cell_type": "code",
   "execution_count": 9,
   "metadata": {},
   "outputs": [
    {
     "data": {
      "text/html": [
       "<div>\n",
       "<style scoped>\n",
       "    .dataframe tbody tr th:only-of-type {\n",
       "        vertical-align: middle;\n",
       "    }\n",
       "\n",
       "    .dataframe tbody tr th {\n",
       "        vertical-align: top;\n",
       "    }\n",
       "\n",
       "    .dataframe thead th {\n",
       "        text-align: right;\n",
       "    }\n",
       "</style>\n",
       "<table border=\"1\" class=\"dataframe\">\n",
       "  <thead>\n",
       "    <tr style=\"text-align: right;\">\n",
       "      <th></th>\n",
       "      <th>event_datetime</th>\n",
       "      <th>event_id</th>\n",
       "      <th>user_id</th>\n",
       "      <th>event_name</th>\n",
       "      <th>city</th>\n",
       "    </tr>\n",
       "  </thead>\n",
       "  <tbody>\n",
       "    <tr>\n",
       "      <th>0</th>\n",
       "      <td>2020-01-01 00:00:00</td>\n",
       "      <td>909</td>\n",
       "      <td>201</td>\n",
       "      <td>Посещение сайта</td>\n",
       "      <td>м</td>\n",
       "    </tr>\n",
       "    <tr>\n",
       "      <th>1</th>\n",
       "      <td>2020-01-01 05:00:00</td>\n",
       "      <td>791</td>\n",
       "      <td>120</td>\n",
       "      <td>Посещение сайта</td>\n",
       "      <td>л</td>\n",
       "    </tr>\n",
       "    <tr>\n",
       "      <th>2</th>\n",
       "      <td>2020-01-01 10:00:00</td>\n",
       "      <td>493</td>\n",
       "      <td>45</td>\n",
       "      <td>Посещение сайта</td>\n",
       "      <td>а</td>\n",
       "    </tr>\n",
       "    <tr>\n",
       "      <th>3</th>\n",
       "      <td>2020-01-01 15:00:00</td>\n",
       "      <td>538</td>\n",
       "      <td>252</td>\n",
       "      <td>Посещение сайта</td>\n",
       "      <td>г</td>\n",
       "    </tr>\n",
       "    <tr>\n",
       "      <th>4</th>\n",
       "      <td>2020-01-01 20:00:00</td>\n",
       "      <td>568</td>\n",
       "      <td>230</td>\n",
       "      <td>Посещение сайта</td>\n",
       "      <td>б</td>\n",
       "    </tr>\n",
       "  </tbody>\n",
       "</table>\n",
       "</div>"
      ],
      "text/plain": [
       "       event_datetime  event_id  user_id       event_name city\n",
       "0 2020-01-01 00:00:00       909      201  Посещение сайта    м\n",
       "1 2020-01-01 05:00:00       791      120  Посещение сайта    л\n",
       "2 2020-01-01 10:00:00       493       45  Посещение сайта    а\n",
       "3 2020-01-01 15:00:00       538      252  Посещение сайта    г\n",
       "4 2020-01-01 20:00:00       568      230  Посещение сайта    б"
      ]
     },
     "execution_count": 9,
     "metadata": {},
     "output_type": "execute_result"
    }
   ],
   "source": [
    "# Создадим столбец с названиями городов в виде одной буквы от \"а\" до \"м\":\n",
    "\n",
    "user_actions['city'] = [''.join(random.choice('абвгдежзиклм') for i in range(1)) for _ in range(user_actions.shape[0])]\n",
    "user_actions.head()"
   ]
  },
  {
   "cell_type": "markdown",
   "metadata": {},
   "source": [
    "<span style=\"color:blue\">Столбец \"city\" создан.</span>"
   ]
  },
  {
   "cell_type": "code",
   "execution_count": 10,
   "metadata": {},
   "outputs": [
    {
     "data": {
      "text/html": [
       "<div>\n",
       "<style scoped>\n",
       "    .dataframe tbody tr th:only-of-type {\n",
       "        vertical-align: middle;\n",
       "    }\n",
       "\n",
       "    .dataframe tbody tr th {\n",
       "        vertical-align: top;\n",
       "    }\n",
       "\n",
       "    .dataframe thead th {\n",
       "        text-align: right;\n",
       "    }\n",
       "</style>\n",
       "<table border=\"1\" class=\"dataframe\">\n",
       "  <thead>\n",
       "    <tr style=\"text-align: right;\">\n",
       "      <th></th>\n",
       "      <th>event_datetime</th>\n",
       "      <th>event_id</th>\n",
       "      <th>user_id</th>\n",
       "      <th>event_name</th>\n",
       "      <th>city</th>\n",
       "      <th>cost</th>\n",
       "    </tr>\n",
       "  </thead>\n",
       "  <tbody>\n",
       "    <tr>\n",
       "      <th>0</th>\n",
       "      <td>2020-01-01 00:00:00</td>\n",
       "      <td>909</td>\n",
       "      <td>201</td>\n",
       "      <td>Посещение сайта</td>\n",
       "      <td>м</td>\n",
       "      <td>2</td>\n",
       "    </tr>\n",
       "    <tr>\n",
       "      <th>1</th>\n",
       "      <td>2020-01-01 05:00:00</td>\n",
       "      <td>791</td>\n",
       "      <td>120</td>\n",
       "      <td>Посещение сайта</td>\n",
       "      <td>л</td>\n",
       "      <td>9</td>\n",
       "    </tr>\n",
       "    <tr>\n",
       "      <th>2</th>\n",
       "      <td>2020-01-01 10:00:00</td>\n",
       "      <td>493</td>\n",
       "      <td>45</td>\n",
       "      <td>Посещение сайта</td>\n",
       "      <td>а</td>\n",
       "      <td>2</td>\n",
       "    </tr>\n",
       "    <tr>\n",
       "      <th>3</th>\n",
       "      <td>2020-01-01 15:00:00</td>\n",
       "      <td>538</td>\n",
       "      <td>252</td>\n",
       "      <td>Посещение сайта</td>\n",
       "      <td>г</td>\n",
       "      <td>9</td>\n",
       "    </tr>\n",
       "    <tr>\n",
       "      <th>4</th>\n",
       "      <td>2020-01-01 20:00:00</td>\n",
       "      <td>568</td>\n",
       "      <td>230</td>\n",
       "      <td>Посещение сайта</td>\n",
       "      <td>б</td>\n",
       "      <td>6</td>\n",
       "    </tr>\n",
       "  </tbody>\n",
       "</table>\n",
       "</div>"
      ],
      "text/plain": [
       "       event_datetime  event_id  user_id       event_name city cost\n",
       "0 2020-01-01 00:00:00       909      201  Посещение сайта    м    2\n",
       "1 2020-01-01 05:00:00       791      120  Посещение сайта    л    9\n",
       "2 2020-01-01 10:00:00       493       45  Посещение сайта    а    2\n",
       "3 2020-01-01 15:00:00       538      252  Посещение сайта    г    9\n",
       "4 2020-01-01 20:00:00       568      230  Посещение сайта    б    6"
      ]
     },
     "execution_count": 10,
     "metadata": {},
     "output_type": "execute_result"
    }
   ],
   "source": [
    "# Создадим столбец со стоимостью привлечения в виде числа от 1 до 9:\n",
    "\n",
    "user_actions['cost'] = [''.join(random.choice('123456789') for i in range(1)) for _ in range(user_actions.shape[0])]\n",
    "user_actions.head()"
   ]
  },
  {
   "cell_type": "markdown",
   "metadata": {},
   "source": [
    "<span style=\"color:blue\">Столбец \"cost\" создан. Датафрейм готов, можно приступать к решению задач.</span>"
   ]
  },
  {
   "cell_type": "markdown",
   "metadata": {},
   "source": [
    "### Решения задач\n",
    "Ниже приведены решения 7 задач из 10 предложенных в виде запросов SQL"
   ]
  },
  {
   "cell_type": "code",
   "execution_count": 11,
   "metadata": {},
   "outputs": [],
   "source": [
    "# Задача 1. Вывести количество уникальных посетителей, которые заходили на сайт из разных городов:\n",
    "\n",
    "q1 = \"\"\"   SELECT COUNT(DISTINCT user_id) users_cnt_from_dif_cities\n",
    "           FROM\n",
    "           (SELECT user_id,\n",
    "                   COUNT(DISTINCT city) \n",
    "           FROM user_actions\n",
    "           WHERE event_name = 'Посещение сайта'\n",
    "           GROUP BY user_id\n",
    "           HAVING COUNT(DISTINCT city)>1);\"\"\"\n"
   ]
  },
  {
   "cell_type": "code",
   "execution_count": 12,
   "metadata": {},
   "outputs": [
    {
     "data": {
      "text/html": [
       "<div>\n",
       "<style scoped>\n",
       "    .dataframe tbody tr th:only-of-type {\n",
       "        vertical-align: middle;\n",
       "    }\n",
       "\n",
       "    .dataframe tbody tr th {\n",
       "        vertical-align: top;\n",
       "    }\n",
       "\n",
       "    .dataframe thead th {\n",
       "        text-align: right;\n",
       "    }\n",
       "</style>\n",
       "<table border=\"1\" class=\"dataframe\">\n",
       "  <thead>\n",
       "    <tr style=\"text-align: right;\">\n",
       "      <th></th>\n",
       "      <th>users_cnt_from_dif_cities</th>\n",
       "    </tr>\n",
       "  </thead>\n",
       "  <tbody>\n",
       "    <tr>\n",
       "      <th>0</th>\n",
       "      <td>252</td>\n",
       "    </tr>\n",
       "  </tbody>\n",
       "</table>\n",
       "</div>"
      ],
      "text/plain": [
       "   users_cnt_from_dif_cities\n",
       "0                        252"
      ]
     },
     "execution_count": 12,
     "metadata": {},
     "output_type": "execute_result"
    }
   ],
   "source": [
    "sqldf(q1)"
   ]
  },
  {
   "cell_type": "code",
   "execution_count": 13,
   "metadata": {},
   "outputs": [],
   "source": [
    "# Задача 2. Найти город с максимальным числом уникальных посетителей. Вывести в разрезе каждого месяца:\n",
    "\n",
    "q2 = \"\"\"    SELECT month, city, MAX(users_cnt) users_cnt_max\n",
    "            FROM\n",
    "            (SELECT strftime('%m', event_datetime) AS month,\n",
    "                   city,\n",
    "                   COUNT(DISTINCT user_id) AS users_cnt \n",
    "            FROM user_actions\n",
    "            WHERE event_name = 'Посещение сайта'\n",
    "            GROUP BY month, city)\n",
    "            GROUP BY month;\"\"\""
   ]
  },
  {
   "cell_type": "code",
   "execution_count": 14,
   "metadata": {},
   "outputs": [
    {
     "data": {
      "text/html": [
       "<div>\n",
       "<style scoped>\n",
       "    .dataframe tbody tr th:only-of-type {\n",
       "        vertical-align: middle;\n",
       "    }\n",
       "\n",
       "    .dataframe tbody tr th {\n",
       "        vertical-align: top;\n",
       "    }\n",
       "\n",
       "    .dataframe thead th {\n",
       "        text-align: right;\n",
       "    }\n",
       "</style>\n",
       "<table border=\"1\" class=\"dataframe\">\n",
       "  <thead>\n",
       "    <tr style=\"text-align: right;\">\n",
       "      <th></th>\n",
       "      <th>month</th>\n",
       "      <th>city</th>\n",
       "      <th>users_cnt_max</th>\n",
       "    </tr>\n",
       "  </thead>\n",
       "  <tbody>\n",
       "    <tr>\n",
       "      <th>0</th>\n",
       "      <td>01</td>\n",
       "      <td>е</td>\n",
       "      <td>19</td>\n",
       "    </tr>\n",
       "    <tr>\n",
       "      <th>1</th>\n",
       "      <td>02</td>\n",
       "      <td>ж</td>\n",
       "      <td>21</td>\n",
       "    </tr>\n",
       "    <tr>\n",
       "      <th>2</th>\n",
       "      <td>03</td>\n",
       "      <td>г</td>\n",
       "      <td>16</td>\n",
       "    </tr>\n",
       "    <tr>\n",
       "      <th>3</th>\n",
       "      <td>04</td>\n",
       "      <td>б</td>\n",
       "      <td>15</td>\n",
       "    </tr>\n",
       "    <tr>\n",
       "      <th>4</th>\n",
       "      <td>05</td>\n",
       "      <td>м</td>\n",
       "      <td>20</td>\n",
       "    </tr>\n",
       "    <tr>\n",
       "      <th>5</th>\n",
       "      <td>06</td>\n",
       "      <td>г</td>\n",
       "      <td>15</td>\n",
       "    </tr>\n",
       "    <tr>\n",
       "      <th>6</th>\n",
       "      <td>07</td>\n",
       "      <td>и</td>\n",
       "      <td>14</td>\n",
       "    </tr>\n",
       "  </tbody>\n",
       "</table>\n",
       "</div>"
      ],
      "text/plain": [
       "  month city  users_cnt_max\n",
       "0    01    е             19\n",
       "1    02    ж             21\n",
       "2    03    г             16\n",
       "3    04    б             15\n",
       "4    05    м             20\n",
       "5    06    г             15\n",
       "6    07    и             14"
      ]
     },
     "execution_count": 14,
     "metadata": {},
     "output_type": "execute_result"
    }
   ],
   "source": [
    "sqldf(q2)"
   ]
  },
  {
   "cell_type": "code",
   "execution_count": 15,
   "metadata": {},
   "outputs": [],
   "source": [
    "# Задача 3. Найти среднее количество посещений сайта, потребовавшееся посетителям, \n",
    "# чтобы принять решение об открытии счета (результат = одно число, только по посетителям, открывшим счет):\n",
    "\n",
    "q3 = \"\"\"    SELECT ROUND(AVG(visits_cnt), 2) visits_cnt_mean FROM\n",
    "            (SELECT user_id,\n",
    "                    COUNT(event_id) visits_cnt\n",
    "            FROM user_actions\n",
    "            WHERE event_name = 'Посещение сайта' \n",
    "            AND user_id IN\n",
    "            (SELECT user_id\n",
    "                    FROM user_actions\n",
    "            WHERE event_name = 'Открытие счета'\n",
    "            GROUP BY user_id) \n",
    "            AND event_datetime <\n",
    "            (SELECT event_datetime\n",
    "                   FROM user_actions\n",
    "            WHERE event_name = 'Открытие счета'\n",
    "            GROUP BY user_id)\n",
    "            GROUP BY user_id);\"\"\""
   ]
  },
  {
   "cell_type": "code",
   "execution_count": 16,
   "metadata": {},
   "outputs": [
    {
     "data": {
      "text/html": [
       "<div>\n",
       "<style scoped>\n",
       "    .dataframe tbody tr th:only-of-type {\n",
       "        vertical-align: middle;\n",
       "    }\n",
       "\n",
       "    .dataframe tbody tr th {\n",
       "        vertical-align: top;\n",
       "    }\n",
       "\n",
       "    .dataframe thead th {\n",
       "        text-align: right;\n",
       "    }\n",
       "</style>\n",
       "<table border=\"1\" class=\"dataframe\">\n",
       "  <thead>\n",
       "    <tr style=\"text-align: right;\">\n",
       "      <th></th>\n",
       "      <th>visits_cnt_mean</th>\n",
       "    </tr>\n",
       "  </thead>\n",
       "  <tbody>\n",
       "    <tr>\n",
       "      <th>0</th>\n",
       "      <td>3.46</td>\n",
       "    </tr>\n",
       "  </tbody>\n",
       "</table>\n",
       "</div>"
      ],
      "text/plain": [
       "   visits_cnt_mean\n",
       "0             3.46"
      ]
     },
     "execution_count": 16,
     "metadata": {},
     "output_type": "execute_result"
    }
   ],
   "source": [
    "sqldf(q3)"
   ]
  },
  {
   "cell_type": "code",
   "execution_count": 17,
   "metadata": {},
   "outputs": [],
   "source": [
    "# Задача 5. Вывести идентификаторы посетителей, которые открыли счет в день первого посещения сайта:\n",
    "\n",
    "q5 = \"\"\"   SELECT user_id\n",
    "            FROM user_actions\n",
    "            WHERE \n",
    "            (SELECT STRFTIME('%Y-%m-%d', event_datetime)      \n",
    "            FROM user_actions\n",
    "            WHERE event_name = 'Открытие счета'\n",
    "            GROUP BY user_id) = \n",
    "            (SELECT MIN(STRFTIME('%Y-%m-%d', event_datetime))\n",
    "            FROM user_actions\n",
    "            GROUP BY user_id)\n",
    "            \n",
    "            AND user_id IN\n",
    "            (SELECT user_id     \n",
    "            FROM user_actions\n",
    "            WHERE event_name = 'Открытие счета'\n",
    "            GROUP BY user_id)\n",
    "            GROUP BY user_id;\"\"\""
   ]
  },
  {
   "cell_type": "code",
   "execution_count": 18,
   "metadata": {},
   "outputs": [
    {
     "data": {
      "text/html": [
       "<div>\n",
       "<style scoped>\n",
       "    .dataframe tbody tr th:only-of-type {\n",
       "        vertical-align: middle;\n",
       "    }\n",
       "\n",
       "    .dataframe tbody tr th {\n",
       "        vertical-align: top;\n",
       "    }\n",
       "\n",
       "    .dataframe thead th {\n",
       "        text-align: right;\n",
       "    }\n",
       "</style>\n",
       "<table border=\"1\" class=\"dataframe\">\n",
       "  <thead>\n",
       "    <tr style=\"text-align: right;\">\n",
       "      <th></th>\n",
       "      <th>user_id</th>\n",
       "    </tr>\n",
       "  </thead>\n",
       "  <tbody>\n",
       "  </tbody>\n",
       "</table>\n",
       "</div>"
      ],
      "text/plain": [
       "Empty DataFrame\n",
       "Columns: [user_id]\n",
       "Index: []"
      ]
     },
     "execution_count": 18,
     "metadata": {},
     "output_type": "execute_result"
    }
   ],
   "source": [
    "sqldf(q5)"
   ]
  },
  {
   "cell_type": "code",
   "execution_count": 19,
   "metadata": {},
   "outputs": [],
   "source": [
    "# Задача 6. Найти общую стоимость привлечения и количество посетителей, которые в течение года так и не  открыли счет:\n",
    "\n",
    "q6 = \"\"\"    SELECT COUNT(user_id) users_cnt,\n",
    "                   SUM(cost_per_user) total_cost\n",
    "            FROM\n",
    "            (SELECT user_id,\n",
    "                   SUM(cost) cost_per_user\n",
    "            FROM user_actions\n",
    "            WHERE user_id NOT IN\n",
    "            (SELECT user_id\n",
    "                    FROM user_actions\n",
    "            WHERE event_name = 'Открытие счета'\n",
    "            GROUP BY user_id)\n",
    "            GROUP BY user_id);\"\"\""
   ]
  },
  {
   "cell_type": "code",
   "execution_count": 20,
   "metadata": {},
   "outputs": [
    {
     "data": {
      "text/html": [
       "<div>\n",
       "<style scoped>\n",
       "    .dataframe tbody tr th:only-of-type {\n",
       "        vertical-align: middle;\n",
       "    }\n",
       "\n",
       "    .dataframe tbody tr th {\n",
       "        vertical-align: top;\n",
       "    }\n",
       "\n",
       "    .dataframe thead th {\n",
       "        text-align: right;\n",
       "    }\n",
       "</style>\n",
       "<table border=\"1\" class=\"dataframe\">\n",
       "  <thead>\n",
       "    <tr style=\"text-align: right;\">\n",
       "      <th></th>\n",
       "      <th>users_cnt</th>\n",
       "      <th>total_cost</th>\n",
       "    </tr>\n",
       "  </thead>\n",
       "  <tbody>\n",
       "    <tr>\n",
       "      <th>0</th>\n",
       "      <td>101</td>\n",
       "      <td>1385</td>\n",
       "    </tr>\n",
       "  </tbody>\n",
       "</table>\n",
       "</div>"
      ],
      "text/plain": [
       "   users_cnt  total_cost\n",
       "0        101        1385"
      ]
     },
     "execution_count": 20,
     "metadata": {},
     "output_type": "execute_result"
    }
   ],
   "source": [
    "sqldf(q6)"
   ]
  },
  {
   "cell_type": "code",
   "execution_count": 21,
   "metadata": {},
   "outputs": [],
   "source": [
    "# Задача 8. Найти общую стоимость привлечения и количество посетителей, которые в течение года открыли счет:\n",
    "\n",
    "q8 = \"\"\"    SELECT COUNT(user_id) users_cnt,\n",
    "                   SUM(cost_per_user) total_cost\n",
    "            FROM\n",
    "            (SELECT user_id,\n",
    "                   SUM(cost) cost_per_user\n",
    "            FROM user_actions\n",
    "            WHERE user_id IN\n",
    "            (SELECT user_id\n",
    "                    FROM user_actions\n",
    "            WHERE event_name = 'Открытие счета'\n",
    "            GROUP BY user_id)\n",
    "            GROUP BY user_id);\"\"\""
   ]
  },
  {
   "cell_type": "code",
   "execution_count": 22,
   "metadata": {},
   "outputs": [
    {
     "data": {
      "text/html": [
       "<div>\n",
       "<style scoped>\n",
       "    .dataframe tbody tr th:only-of-type {\n",
       "        vertical-align: middle;\n",
       "    }\n",
       "\n",
       "    .dataframe tbody tr th {\n",
       "        vertical-align: top;\n",
       "    }\n",
       "\n",
       "    .dataframe thead th {\n",
       "        text-align: right;\n",
       "    }\n",
       "</style>\n",
       "<table border=\"1\" class=\"dataframe\">\n",
       "  <thead>\n",
       "    <tr style=\"text-align: right;\">\n",
       "      <th></th>\n",
       "      <th>users_cnt</th>\n",
       "      <th>total_cost</th>\n",
       "    </tr>\n",
       "  </thead>\n",
       "  <tbody>\n",
       "    <tr>\n",
       "      <th>0</th>\n",
       "      <td>186</td>\n",
       "      <td>5096</td>\n",
       "    </tr>\n",
       "  </tbody>\n",
       "</table>\n",
       "</div>"
      ],
      "text/plain": [
       "   users_cnt  total_cost\n",
       "0        186        5096"
      ]
     },
     "execution_count": 22,
     "metadata": {},
     "output_type": "execute_result"
    }
   ],
   "source": [
    "sqldf(q8)"
   ]
  },
  {
   "cell_type": "code",
   "execution_count": 23,
   "metadata": {},
   "outputs": [],
   "source": [
    "# Задача 9. Вывести уникальные даты посещения сайта посетителем, стоимость привлечения которого на сайт \n",
    "# (Событие \"Посещение сайта\", за весь год) оказалась самой высокой. Независимо от того, открыл или не открыл счет:\n",
    "\n",
    "q9 = \"\"\"    SELECT DISTINCT STRFTIME('%Y-%m-%d', event_datetime) unique_dates\n",
    "            FROM user_actions\n",
    "            WHERE user_id =\n",
    "            (SELECT user_id                  \n",
    "            FROM user_actions\n",
    "            WHERE event_name = 'Посещение сайта'\n",
    "            GROUP BY user_id\n",
    "            ORDER BY SUM(cost) DESC LIMIT 1);\"\"\""
   ]
  },
  {
   "cell_type": "code",
   "execution_count": 24,
   "metadata": {},
   "outputs": [
    {
     "data": {
      "text/html": [
       "<div>\n",
       "<style scoped>\n",
       "    .dataframe tbody tr th:only-of-type {\n",
       "        vertical-align: middle;\n",
       "    }\n",
       "\n",
       "    .dataframe tbody tr th {\n",
       "        vertical-align: top;\n",
       "    }\n",
       "\n",
       "    .dataframe thead th {\n",
       "        text-align: right;\n",
       "    }\n",
       "</style>\n",
       "<table border=\"1\" class=\"dataframe\">\n",
       "  <thead>\n",
       "    <tr style=\"text-align: right;\">\n",
       "      <th></th>\n",
       "      <th>unique_dates</th>\n",
       "    </tr>\n",
       "  </thead>\n",
       "  <tbody>\n",
       "    <tr>\n",
       "      <th>0</th>\n",
       "      <td>2020-01-08</td>\n",
       "    </tr>\n",
       "    <tr>\n",
       "      <th>1</th>\n",
       "      <td>2020-01-31</td>\n",
       "    </tr>\n",
       "    <tr>\n",
       "      <th>2</th>\n",
       "      <td>2020-02-13</td>\n",
       "    </tr>\n",
       "    <tr>\n",
       "      <th>3</th>\n",
       "      <td>2020-03-11</td>\n",
       "    </tr>\n",
       "    <tr>\n",
       "      <th>4</th>\n",
       "      <td>2020-03-19</td>\n",
       "    </tr>\n",
       "    <tr>\n",
       "      <th>5</th>\n",
       "      <td>2020-03-29</td>\n",
       "    </tr>\n",
       "    <tr>\n",
       "      <th>6</th>\n",
       "      <td>2020-04-01</td>\n",
       "    </tr>\n",
       "    <tr>\n",
       "      <th>7</th>\n",
       "      <td>2020-04-23</td>\n",
       "    </tr>\n",
       "    <tr>\n",
       "      <th>8</th>\n",
       "      <td>2020-05-07</td>\n",
       "    </tr>\n",
       "    <tr>\n",
       "      <th>9</th>\n",
       "      <td>2020-06-20</td>\n",
       "    </tr>\n",
       "  </tbody>\n",
       "</table>\n",
       "</div>"
      ],
      "text/plain": [
       "  unique_dates\n",
       "0   2020-01-08\n",
       "1   2020-01-31\n",
       "2   2020-02-13\n",
       "3   2020-03-11\n",
       "4   2020-03-19\n",
       "5   2020-03-29\n",
       "6   2020-04-01\n",
       "7   2020-04-23\n",
       "8   2020-05-07\n",
       "9   2020-06-20"
      ]
     },
     "execution_count": 24,
     "metadata": {},
     "output_type": "execute_result"
    }
   ],
   "source": [
    "sqldf(q9)"
   ]
  },
  {
   "cell_type": "markdown",
   "metadata": {},
   "source": [
    "<span style=\"color:blue\">Решены 7 задач.</span>"
   ]
  }
 ],
 "metadata": {
  "kernelspec": {
   "display_name": "Python 3",
   "language": "python",
   "name": "python3"
  },
  "language_info": {
   "codemirror_mode": {
    "name": "ipython",
    "version": 3
   },
   "file_extension": ".py",
   "mimetype": "text/x-python",
   "name": "python",
   "nbconvert_exporter": "python",
   "pygments_lexer": "ipython3",
   "version": "3.7.3"
  }
 },
 "nbformat": 4,
 "nbformat_minor": 4
}
